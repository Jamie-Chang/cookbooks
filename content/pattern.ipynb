{
 "cells": [
  {
   "cell_type": "markdown",
   "metadata": {},
   "source": [
    "# Sequence Pattern Matching Idiosyncrasies"
   ]
  },
  {
   "cell_type": "markdown",
   "metadata": {},
   "source": [
    "### Sequences\n",
    "[Python sequences](https://docs.python.org/3/library/stdtypes.html#sequence-types-list-tuple-range) include many common operations. I mostly associate with `list` and `str` builtin types but it's more generic than that. "
   ]
  },
  {
   "cell_type": "code",
   "execution_count": 1,
   "metadata": {},
   "outputs": [],
   "source": [
    "from collections.abc import Sequence"
   ]
  },
  {
   "cell_type": "code",
   "execution_count": 8,
   "metadata": {},
   "outputs": [
    {
     "name": "stdout",
     "output_type": "stream",
     "text": [
      "True\n",
      "matched:  ['a', 'b', 'c']\n"
     ]
    }
   ],
   "source": [
    "print(isinstance([\"abcd\"], Sequence))\n",
    "\n",
    "match [\"a\", \"b\", \"c\"]:\n",
    "    case Sequence() as s:\n",
    "        print(\"matched: \", s)\n",
    "    case _:\n",
    "        print(\"Not matched\")\n"
   ]
  },
  {
   "cell_type": "markdown",
   "metadata": {},
   "source": [
    "### Sequence Matching Syntax\n",
    "There is [special syntax](https://peps.python.org/pep-0634/#sequence-patterns) for pattern matching sequences "
   ]
  },
  {
   "cell_type": "code",
   "execution_count": 11,
   "metadata": {},
   "outputs": [
    {
     "name": "stdout",
     "output_type": "stream",
     "text": [
      "matched first and rest is: ['b', 'c']\n",
      "round brackets are equivalent\n",
      "matched first and rest is: ['b', 'c']\n"
     ]
    }
   ],
   "source": [
    "match [\"a\", \"b\", \"c\"]:\n",
    "    case [\"a\", *rest]:\n",
    "        print(\"matched first and rest is:\", rest)\n",
    "    case _:\n",
    "        print(\"Not matched\")\n",
    "\n",
    "\n",
    "print(\"round brackets are equivalent\")\n",
    "match [\"a\", \"b\", \"c\"]:\n",
    "    case (\"a\", *rest):\n",
    "        print(\"matched first and rest is:\", rest)\n",
    "    case _:\n",
    "        print(\"Not matched\")"
   ]
  },
  {
   "cell_type": "markdown",
   "metadata": {},
   "source": [
    "#### Matching non-lists\n",
    "According to the [PEP](https://peps.python.org/pep-0634/#sequence-patterns):\n",
    "> The following standard library classes will have their Py_TPFLAGS_SEQUENCE bit set:\n",
    "> \n",
    "> - array.array\n",
    "> - collections.deque\n",
    "> - list\n",
    "> - memoryview\n",
    "> - range\n",
    "> - tuple\n",
    "\n",
    "So we can match a tuple as shown"
   ]
  },
  {
   "cell_type": "code",
   "execution_count": 12,
   "metadata": {},
   "outputs": [
    {
     "name": "stdout",
     "output_type": "stream",
     "text": [
      "key = 'a' value = 1\n"
     ]
    }
   ],
   "source": [
    "match \"a\", 1:\n",
    "    case [str() as key, int() as value]:\n",
    "        print(f\"{key = } {value = }\")"
   ]
  },
  {
   "cell_type": "markdown",
   "metadata": {},
   "source": [
    "Matching a specific sequence type"
   ]
  },
  {
   "cell_type": "code",
   "execution_count": 16,
   "metadata": {},
   "outputs": [
    {
     "name": "stdout",
     "output_type": "stream",
     "text": [
      "tuple: a 1\n"
     ]
    }
   ],
   "source": [
    "match \"a\", 1:\n",
    "    case list([a, b]):\n",
    "        print(\"list:\", a, b)\n",
    "    case tuple([a, b]):\n",
    "        print(\"tuple:\", a, b)"
   ]
  },
  {
   "cell_type": "markdown",
   "metadata": {},
   "source": [
    "Matching a string is not so simple. Again from the docs\n",
    "\n",
    "\n",
    "> Note\n",
    "> \n",
    "> Although str, bytes, and bytearray are usually considered sequences, they are not included in the above list and do not match sequence patterns.\n",
    "\n"
   ]
  },
  {
   "cell_type": "code",
   "execution_count": 19,
   "metadata": {},
   "outputs": [
    {
     "name": "stdout",
     "output_type": "stream",
     "text": [
      "sequence\n"
     ]
    }
   ],
   "source": [
    "match \"abcd\":\n",
    "    case [\"a\", *rest]:\n",
    "        print(rest)\n",
    "\n",
    "    case Sequence():\n",
    "        print(\"sequence\")\n",
    "\n",
    "    case _: \n",
    "        print(\"other\")"
   ]
  }
 ],
 "metadata": {
  "kernelspec": {
   "display_name": "Python 3",
   "language": "python",
   "name": "python3"
  },
  "language_info": {
   "codemirror_mode": {
    "name": "ipython",
    "version": 3
   },
   "file_extension": ".py",
   "mimetype": "text/x-python",
   "name": "python",
   "nbconvert_exporter": "python",
   "pygments_lexer": "ipython3",
   "version": "3.12.1"
  }
 },
 "nbformat": 4,
 "nbformat_minor": 2
}
