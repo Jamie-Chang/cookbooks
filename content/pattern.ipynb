{
 "cells": [
  {
   "cell_type": "markdown",
   "metadata": {},
   "source": [
    "# Pattern Matching Cookbook"
   ]
  },
  {
   "cell_type": "markdown",
   "metadata": {},
   "source": [
    "## Common matching operations\n",
    "If we're matching a literal (`string`, `int`, `float`, `None`, `bool`) then the literal can be directly used in a `case` arm. \n",
    "\n",
    "The example below shows off some of the ways we can match. \n",
    "I most frequently use `unions` (`|`), `guards`, `capture` or `wildcard` (`_`) expressions.\n",
    "\n",
    "You may be confused by `int()` syntax. This is better explain in the [`Matching Objects`](#matching-objects) section."
   ]
  },
  {
   "cell_type": "code",
   "execution_count": 23,
   "metadata": {},
   "outputs": [
    {
     "name": "stdout",
     "output_type": "stream",
     "text": [
      "1 or 2\n"
     ]
    }
   ],
   "source": [
    "val = 1\n",
    "match val:\n",
    "    case 0:\n",
    "        print(\"0\")\n",
    "    case True:\n",
    "        print(\"true\")\n",
    "    case 1 | 2:\n",
    "        print(\"1 or 2\")\n",
    "    case 3 | 4 as three_or_four:\n",
    "        print(\"3 or 4\", three_or_four)\n",
    "    case int() as v if v < 100:\n",
    "        print(\"guard: int less than 100\", v)\n",
    "    case int(v) if 100 <= v < 200:\n",
    "        print(\"int(v) is a shorthand syntax for `int() as v` this is only applied to builtin types\")\n",
    "        print(\"guard: 1xx\", v)\n",
    "    case v if not v:\n",
    "        print(\"Capture v for a truthy value\", v)\n",
    "    case None:\n",
    "        print(\"Matched None\")\n",
    "    case _:\n",
    "        print(\"Wildcard\")"
   ]
  },
  {
   "cell_type": "markdown",
   "metadata": {},
   "source": [
    "### Gotcha: Variable Value Matching\n",
    "\n",
    "It's quite easy to confuse matching the value of a variable with the capture pattern"
   ]
  },
  {
   "cell_type": "code",
   "execution_count": 24,
   "metadata": {},
   "outputs": [
    {
     "name": "stdout",
     "output_type": "stream",
     "text": [
      "Always matches\n"
     ]
    }
   ],
   "source": [
    "up = (0, 1)\n",
    "match (1, 1):\n",
    "    case up:  # this actually just means capture the value into a variable up\n",
    "        print(\"Always matches\")"
   ]
  },
  {
   "cell_type": "markdown",
   "metadata": {},
   "source": [
    "To get around this, your variable value expression must have a  `.` in there. This is commonly used for enums."
   ]
  },
  {
   "cell_type": "code",
   "execution_count": 25,
   "metadata": {},
   "outputs": [
    {
     "name": "stdout",
     "output_type": "stream",
     "text": [
      "Matched\n",
      "Matched\n"
     ]
    }
   ],
   "source": [
    "from enum import Enum, auto\n",
    "\n",
    "\n",
    "class Direction:\n",
    "    other = (1, 0)\n",
    "    up = (0, 1)\n",
    "\n",
    "\n",
    "match (0, 1):\n",
    "    case Direction.up:\n",
    "        print(\"Matched\")\n",
    "\n",
    "\n",
    "class Direction(Enum):\n",
    "    UP = auto()\n",
    "\n",
    "\n",
    "match Direction.UP:\n",
    "    case Direction.UP:\n",
    "        print(\"Matched\")"
   ]
  },
  {
   "cell_type": "markdown",
   "metadata": {},
   "source": [
    "Guard statements can also work though quite verbose:"
   ]
  },
  {
   "cell_type": "code",
   "execution_count": 26,
   "metadata": {},
   "outputs": [
    {
     "name": "stdout",
     "output_type": "stream",
     "text": [
      "Matched\n"
     ]
    }
   ],
   "source": [
    "\n",
    "up = (0, 1)\n",
    "match (0, 1):\n",
    "    case d if d == up:\n",
    "        print(\"Matched\")\n"
   ]
  },
  {
   "cell_type": "markdown",
   "metadata": {},
   "source": [
    "## Matching Objects\n",
    "The syntax is as follows\n",
    "```py\n",
    "match something:\n",
    "    case ClassToMatch(attribute=expression):\n",
    "        ...\n",
    "```\n",
    "where expression can be a any matching expression including nested.\n",
    "\n",
    "The expression is equivalent to:\n",
    "1. check `isinstance(something, ClassToMatch)`\n",
    "2. match `something.attribute` with expression\n"
   ]
  },
  {
   "cell_type": "code",
   "execution_count": 27,
   "metadata": {},
   "outputs": [
    {
     "name": "stdout",
     "output_type": "stream",
     "text": [
      "Nested capture pattern with a mixture of variable and as\n",
      "5 4 Link(val=3, link=Link(val=2, link=Link(val=1, link=Link(val=0, link=None))))\n"
     ]
    }
   ],
   "source": [
    "from dataclasses import dataclass\n",
    "\n",
    "@dataclass\n",
    "class Link[T]:\n",
    "    val: T\n",
    "    link: \"Link[T] | None\" = None\n",
    "\n",
    "\n",
    "links = Link(5, Link(4, Link(3, Link(2, Link(1, Link(0))))))\n",
    "match links:\n",
    "    case Link(val=1):\n",
    "        print(\n",
    "            \"When matching object attributes \"\n",
    "            \"there's no need to exhaustively match everything\"\n",
    "        )\n",
    "    case object(val=1):\n",
    "        print(\n",
    "            \"Since object is a super class of everything, \"\n",
    "            \"this will match any type who has a `val` attribute of 1\"\n",
    "        )\n",
    "\n",
    "    case object(blah=val):\n",
    "        print(\"The object in question doesn't have attribute `blah\")\n",
    "\n",
    "    case Link(val=5, link=Link(val=3)):\n",
    "        print(\"Nested match pattern\")\n",
    "\n",
    "    case Link(val=first, link=Link(val=4, link=third) as second):\n",
    "        print(\"Nested capture pattern with a mixture of variable and as\")\n",
    "        print(first, second.val, third)\n"
   ]
  },
  {
   "cell_type": "markdown",
   "metadata": {},
   "source": [
    "### Positional Attribute Matching\n",
    "In our previous examples, we're matching attributes using their name: \n",
    "```py\n",
    "case Link(val=first, link=Link(val=4, link=third) as second):\n",
    "```\n",
    "\n",
    "This is quite verbose, we can actually specify order of attribute for positional matching via `__match_args__`."
   ]
  },
  {
   "cell_type": "code",
   "execution_count": 28,
   "metadata": {},
   "outputs": [
    {
     "name": "stdout",
     "output_type": "stream",
     "text": [
      "Match first attribute capture second: 3\n"
     ]
    }
   ],
   "source": [
    "class Pair[T]:\n",
    "    __match_args__ = (\"first\", \"second\")\n",
    "\n",
    "    def __init__(self, first: T, second: T) -> None:\n",
    "        self.first = first\n",
    "        self.second = second\n",
    "\n",
    "\n",
    "match Pair(1, 3):\n",
    "    case Pair(1, 2):\n",
    "        print(\"Not quite matching\")\n",
    "    case Pair(1, second):\n",
    "        print(\"Match first attribute capture second:\", second)\n"
   ]
  },
  {
   "cell_type": "markdown",
   "metadata": {},
   "source": [
    "Dataclasses have `__match_args__` populated by default."
   ]
  },
  {
   "cell_type": "code",
   "execution_count": 29,
   "metadata": {},
   "outputs": [
    {
     "name": "stdout",
     "output_type": "stream",
     "text": [
      "Match by positional args\n"
     ]
    }
   ],
   "source": [
    "links = Link(5, Link(4, Link(3, Link(2, Link(1, Link(0))))))\n",
    "match links:\n",
    "    case Link(5, Link(4)):\n",
    "        print(\"Match by positional args\")\n"
   ]
  },
  {
   "cell_type": "markdown",
   "metadata": {},
   "source": [
    "\n",
    "## Sequence Matching Syntax\n",
    "Definition of [Python sequences](https://docs.python.org/3/library/stdtypes.html#sequence-types-list-tuple-range) include the builtin types `str, list, tuple`. There are also custom sequence types that inherit `collections.abc.Sequence`. \n",
    "\n",
    "### Sequence matching syntax\n",
    "The special syntax for matching sequences are specified [here](https://peps.python.org/pep-0634/#sequence-patterns). \n",
    "\n",
    "Note:\n",
    "- There are no differences between types like `list`, `tuple` and subtypes of `Sequence`.\n",
    "- Unlike other types of matching, all elements of a sequence must be exhaustively matched.\n",
    "- Adding to that, `[]` `()` or no brackets behave the same.\n",
    "- `str` is a special case here and can't be matched with the syntax."
   ]
  },
  {
   "cell_type": "code",
   "execution_count": 30,
   "metadata": {},
   "outputs": [
    {
     "name": "stdout",
     "output_type": "stream",
     "text": [
      "matched first and rest is: ['b', 'c']\n",
      "round brackets are equivalent\n",
      "matched first and rest is: ['b', 'c']\n",
      "no brackets are the same too\n",
      "matched first and rest is: ['b', 'c']\n",
      "A str is left out of the sequence party\n",
      "Matching 'abc'\n",
      "Not matched\n"
     ]
    }
   ],
   "source": [
    "seq = [\"a\", \"b\", \"c\"]\n",
    "\n",
    "match seq:\n",
    "    case [\"a\", *rest]:\n",
    "        print(\"matched first and rest is:\", rest)\n",
    "    case _:\n",
    "        print(\"Not matched\")\n",
    "\n",
    "\n",
    "print(\"round brackets are equivalent\")\n",
    "match seq:\n",
    "    case (\"a\", *rest):\n",
    "        print(\"matched first and rest is:\", rest)\n",
    "    case _:\n",
    "        print(\"Not matched\")\n",
    "\n",
    "print(\"no brackets are the same too\")\n",
    "match seq:\n",
    "    case \"a\", *rest:\n",
    "        print(\"matched first and rest is:\", rest)\n",
    "    case [\"a\"] | []:\n",
    "        print(\"Brackets are needed only when you match a sequence of 1 or 0\")\n",
    "    case _:\n",
    "        print(\"Not matched\")\n",
    "\n",
    "\n",
    "print(\"A str is left out of the sequence party\")\n",
    "print(\"Matching 'abc'\")\n",
    "match \"abc\":\n",
    "    case \"a\", *_:\n",
    "        print(\"matched first\")\n",
    "    case [\"a\"] | []:\n",
    "        print(\"Brackets are needed only when you match a sequence of 1 or 0\")\n",
    "    case _:\n",
    "        print(\"Not matched\")\n",
    "\n"
   ]
  },
  {
   "cell_type": "markdown",
   "metadata": {},
   "source": [
    "#### What can be matched\n",
    "According to the [PEP](https://peps.python.org/pep-0634/#sequence-patterns):\n",
    "> The following standard library classes will have their Py_TPFLAGS_SEQUENCE bit set:\n",
    "> \n",
    "> - array.array\n",
    "> - collections.deque\n",
    "> - list\n",
    "> - memoryview\n",
    "> - range\n",
    "> - tuple\n",
    "\n",
    "In addition to subclasses of `Sequence`"
   ]
  },
  {
   "cell_type": "code",
   "execution_count": 31,
   "metadata": {},
   "outputs": [
    {
     "name": "stdout",
     "output_type": "stream",
     "text": [
      "matched first and rest is: ['b', 'c']\n"
     ]
    }
   ],
   "source": [
    "from collections import UserList\n",
    "from collections.abc import Sequence\n",
    "\n",
    "class LowerCaseList(UserList[str]):\n",
    "    def __init__(self, data: Sequence[str] | None = None) -> None:\n",
    "        if data is None:\n",
    "            data = []\n",
    "        self.data = data\n",
    "\n",
    "    def __getitem__(self, key: int) -> str:\n",
    "        return super().__getitem__(key).lower()\n",
    "    \n",
    "\n",
    "match LowerCaseList([\"A\", \"B\", \"C\"]):\n",
    "    case \"a\", *rest:\n",
    "        print(\"matched first and rest is:\", rest)\n",
    "    case _:\n",
    "        print(\"Not matched\")\n"
   ]
  },
  {
   "cell_type": "markdown",
   "metadata": {},
   "source": [
    "#### Matching the sequence type and structure\n",
    "How do we specify that we only want to match a tuple not a list?\n",
    "\n",
    "There's a special syntax for this, which also works for `int`, `float` and `bool`"
   ]
  },
  {
   "cell_type": "code",
   "execution_count": 32,
   "metadata": {},
   "outputs": [
    {
     "name": "stdout",
     "output_type": "stream",
     "text": [
      "tuple: a 1\n"
     ]
    }
   ],
   "source": [
    "match \"a\", 1:\n",
    "    case list([a, b]):\n",
    "        print(\"list:\", a, b)\n",
    "    case tuple([a, b]):\n",
    "        print(\"tuple:\", a, b)"
   ]
  },
  {
   "cell_type": "markdown",
   "metadata": {},
   "source": [
    "## Mapping Matching\n",
    "Mappings are treated more similar to objects than sequences\n",
    "- Specific keys are expected to be matched\n",
    "- Matching is non-exhaustive\n",
    "- There is no wildcard options for matching"
   ]
  },
  {
   "cell_type": "code",
   "execution_count": 33,
   "metadata": {},
   "outputs": [
    {
     "name": "stdout",
     "output_type": "stream",
     "text": [
      "Matching b key as a int 2\n"
     ]
    }
   ],
   "source": [
    "match {\"a\": 1, \"b\": 2}:\n",
    "    case {\"a\": str(_)}:\n",
    "        print(\"Matching a key as a string\")\n",
    "    case {\"b\": int(b)}:\n",
    "        print(\"Matching b key as a int\", b)"
   ]
  },
  {
   "cell_type": "markdown",
   "metadata": {},
   "source": [
    "### Custom matching\n",
    "The custom mapping must be a subclass of `collections.abc.Mapping`.\n",
    "\n",
    "Even though custom types that implement `__getitem__` behave similar to a Mapping, it cannot be matched with a mapping type."
   ]
  },
  {
   "cell_type": "code",
   "execution_count": 34,
   "metadata": {},
   "outputs": [
    {
     "name": "stdout",
     "output_type": "stream",
     "text": [
      "a shifted 5 is f\n",
      "Matched\n"
     ]
    }
   ],
   "source": [
    "from collections.abc import Mapping\n",
    "from dataclasses import dataclass\n",
    "\n",
    "\n",
    "@dataclass\n",
    "class Shift(Mapping):\n",
    "    n: int\n",
    "\n",
    "    def __iter__(self):\n",
    "        yield from ()\n",
    "\n",
    "    def __len__(self) -> int:\n",
    "        return 26 - self.n\n",
    "\n",
    "    def __getitem__(self, key: str) -> str:\n",
    "        return chr(ord(key) + self.n)\n",
    "\n",
    "\n",
    "print(\"a shifted 5 is\", Shift(5)[\"a\"])\n",
    "match Shift(5):\n",
    "    case {\"a\": \"f\", \"b\": \"g\"}:\n",
    "        print(\"Matched\")"
   ]
  },
  {
   "cell_type": "markdown",
   "metadata": {},
   "source": [
    "## Exhaustive Matching\n",
    "Unlike matching in other languages such as rust and ocaml. Matching in Python does not have to be exhaustive. Meaning it is not required to handle all possible cases.\n",
    "\n",
    "It is however often a good idea to in order to error when unexpected values come through:"
   ]
  },
  {
   "cell_type": "code",
   "execution_count": 35,
   "metadata": {},
   "outputs": [
    {
     "name": "stdout",
     "output_type": "stream",
     "text": [
      "0\n"
     ]
    }
   ],
   "source": [
    "from enum import Enum, auto\n",
    "\n",
    "\n",
    "class MyEnum(Enum):\n",
    "    A = auto()\n",
    "    B = auto()\n",
    "\n",
    "\n",
    "def translate(enum: MyEnum) -> int:\n",
    "    match enum:\n",
    "        case MyEnum.A:\n",
    "            return 0\n",
    "        case MyEnum.B:\n",
    "            return 1\n",
    "        case _:\n",
    "            # NOTE: You may wish to use an actual exception.\n",
    "            assert False, \"An unexpected value was passed in, let's error\"\n",
    "\n",
    "print(translate(MyEnum.A))\n"
   ]
  },
  {
   "cell_type": "markdown",
   "metadata": {},
   "source": [
    "#### Typing + Exhaustive Matching\n",
    "The above example works fine, but we can actually leverage the type system to do better. This is best demonstrated step-by-step.\n",
    "\n",
    "##### Use `assert_never` at the end\n",
    "The last branch should match anything and be passed into [`assert_never`](https://docs.python.org/3/library/typing.html#typing.assert_never). \n",
    "What we're saying here is that the `other` branch should never happen, that is the matching is exhaustive.\n",
    "\n",
    "Code sample in [pyright playground](https://pyright-play.net/?code=GYJw9gtgBApgdgV2gSwgBzCALlAooiAGigEMEswAoUSKLATzWTgHMpUNtSBnbmbAPpwYAN36UJAYwA2JXlACy9fEgAUKiAEoAXJSj6oAQSgBeUuTCrNegwCFT5ilYmUAJjGB0QJON1lYYVXgkbUVlAk0oAFoAPnY4LF0DKAgSLEkAC1gCJOSDSTkYKDAsDP5cvLy5PkFhMRBVErKQTSA)\n",
    "\n",
    "```python\n",
    "from enum import Enum, auto\n",
    "from typing import assert_never\n",
    "\n",
    "\n",
    "class MyEnum(Enum):\n",
    "    A = auto()\n",
    "    B = auto()\n",
    "\n",
    "\n",
    "def translate(enum: MyEnum) -> int:\n",
    "    match enum:\n",
    "        case other:\n",
    "            assert_never(other)  # ❌\n",
    "```\n",
    "\n",
    "#### Add branches until the type checker passes\n",
    "Code sample in [pyright playground](https://pyright-play.net/?code=GYJw9gtgBApgdgV2gSwgBzCALlAooiAGigEMEswAoUSKLATzWTgHMpUNtSBnbmbAPpwYAN36UJAYwA2JXlACy9fEgAUKiAEoAXJSj6oAQSgBeUuTCrNegwCFT5ilYmUAJjGB0QJON1lYYVXgkbUVlAk0oAFoAPnY4LF0DKAgSLEkAC1gCJOSDSTkYMI0AOkNcvLyQGCwEEDgoAAYbSoK%2BYoIS2wrKg2ra%2BqgARha8tqKwLAz%2BHt6ePkFhMRBVSemQSKgAYihAUHIgA)\n",
    "\n",
    "```python\n",
    "from enum import Enum, auto\n",
    "from typing import assert_never\n",
    "\n",
    "\n",
    "class MyEnum(Enum):\n",
    "    A = auto()\n",
    "    B = auto()\n",
    "\n",
    "\n",
    "def translate(enum: MyEnum) -> int:\n",
    "    match enum:\n",
    "        case MyEnum.A:\n",
    "            return 0\n",
    "        case MyEnum.B:\n",
    "            return 1\n",
    "        case other:\n",
    "            assert_never(other)  # ✅\n",
    "```\n"
   ]
  },
  {
   "cell_type": "markdown",
   "metadata": {},
   "source": [
    "#### Protection from Change\n",
    "This example is simple and the enum is located in the same place. In more complex project structures this type checking can protect us from future changes to type definitions. \n",
    "\n",
    "Any addition to enum will cause the `assert_never` to fail the type check.\n",
    "Code sample in [pyright playground](https://pyright-play.net/?code=GYJw9gtgBApgdgV2gSwgBzCALlAooiAGigEMEswAoUSKLATzWTgHMpUNtSBnbmbAPpwYAN36UJAYwA2JXlACy9fEgAUKiAEoAXJSj6oAQSgBeUuTCrNegwCFT5ilZv6Awg7JPrEgCYxgdCAkcNyyWDCq8EjaisoEmlAAtAB87HBYugZQECRYkgAWsASZWQaScjCxGgB0hiWlpSAwWAggcFAADC6l5XxVBNW29Q0GTS1tUACM3Vm9lWBY%2BfzDIzx8gsJiIKoLSyAJUADEUIAy5EA)\n",
    "\n",
    "```python\n",
    "from enum import Enum, auto\n",
    "from typing import assert_never\n",
    "\n",
    "\n",
    "class MyEnum(Enum):\n",
    "    A = auto()\n",
    "    B = auto()\n",
    "    C = auto()\n",
    "\n",
    "\n",
    "def translate(enum: MyEnum) -> int:\n",
    "    match enum:\n",
    "        case MyEnum.A:\n",
    "            return 0\n",
    "        case MyEnum.B:\n",
    "            return 1\n",
    "        case other:\n",
    "            assert_never(other)  # ❌\n",
    "```\n"
   ]
  },
  {
   "cell_type": "markdown",
   "metadata": {},
   "source": [
    "## Advanced\n",
    "### Matching Properties\n",
    "I use this trick in [pattern-utils](https://github.com/Jamie-Chang/pattern-utils), since we can match on attribute of an object we must be able to match on a `property` (or any `descriptor`):"
   ]
  },
  {
   "cell_type": "code",
   "execution_count": 36,
   "metadata": {},
   "outputs": [
    {
     "name": "stdout",
     "output_type": "stream",
     "text": [
      "matched\n"
     ]
    }
   ],
   "source": [
    "from dataclasses import dataclass\n",
    "from functools import cached_property\n",
    "import math\n",
    "\n",
    "\n",
    "@dataclass\n",
    "class Pair:\n",
    "    first: int\n",
    "    second: int\n",
    "\n",
    "    @property\n",
    "    def manhattan(self) -> int:\n",
    "        return self.first + self.second\n",
    "    \n",
    "    @cached_property\n",
    "    def linear(self) -> float:\n",
    "        return math.sqrt(self.first * self.first + self.second * self.second)\n",
    "    \n",
    "\n",
    "match Pair(3, 4):\n",
    "    case Pair(manhattan=7, linear=5):\n",
    "        print(\"matched\")"
   ]
  }
 ],
 "metadata": {
  "kernelspec": {
   "display_name": "Python 3",
   "language": "python",
   "name": "python3"
  },
  "language_info": {
   "codemirror_mode": {
    "name": "ipython",
    "version": 3
   },
   "file_extension": ".py",
   "mimetype": "text/x-python",
   "name": "python",
   "nbconvert_exporter": "python",
   "pygments_lexer": "ipython3",
   "version": "3.12.1"
  }
 },
 "nbformat": 4,
 "nbformat_minor": 2
}
