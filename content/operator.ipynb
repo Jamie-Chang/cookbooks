{
 "cells": [
  {
   "cell_type": "markdown",
   "metadata": {},
   "source": [
    "# Building DSLs in Python with Operator Overloading"
   ]
  },
  {
   "cell_type": "markdown",
   "metadata": {},
   "source": [
    "## DSL (Domain specific language)\n",
    "A [Domain-Specific Language (DSL)](https://martinfowler.com/dsl.html) is a computer language that's targeted to a particular kind of problem.\n",
    "\n",
    "We're going to dive in a specific type of DSL called internal DSL. Internal DSLs are internal to a host language and conform to the syntax of the host language, however they are structured in a way to provider a feel of a language.\n",
    "\n",
    "In our case, the host language is Python and we'll be using operator overloading to achieve the feel of the language.\n",
    "\n",
    "## Python's Operators\n",
    "Python gives a ton of control over object's [operators](https://docs.python.org/3/reference/datamodel.html), the behaviour can be overwridden using dunder methods. Example below to override addition on custom objects."
   ]
  },
  {
   "cell_type": "code",
   "execution_count": 1,
   "metadata": {},
   "outputs": [
    {
     "data": {
      "text/plain": [
       "Pair(a=4, b=6)"
      ]
     },
     "execution_count": 1,
     "metadata": {},
     "output_type": "execute_result"
    }
   ],
   "source": [
    "from dataclasses import dataclass\n",
    "from typing import Self\n",
    "\n",
    "\n",
    "@dataclass\n",
    "class Pair:\n",
    "    a: int\n",
    "    b: int\n",
    "\n",
    "    def __add__(self, other: Self) -> Self:\n",
    "        return type(self)(self.a + other.a, self.b + other.b)\n",
    "\n",
    "\n",
    "Pair(1, 2) + Pair(3, 4)"
   ]
  },
  {
   "cell_type": "markdown",
   "metadata": {},
   "source": [
    "## Existing Examples\n",
    "\n",
    "This kind of operator overloading is very common. If you squint you might see that it's not too far from being an actual DSL.\n",
    "\n",
    "The objects here can form the building blocks of the DSL and the operators are just syntax on top of it. \n",
    "\n",
    "Indeed the most used DSL of this kind is probably Python's [pathlib](https://docs.python.org/3/library/pathlib.html) in the standard library. "
   ]
  },
  {
   "cell_type": "code",
   "execution_count": 2,
   "metadata": {},
   "outputs": [
    {
     "name": "stdout",
     "output_type": "stream",
     "text": [
      "/etc/init.d/reboot\n"
     ]
    }
   ],
   "source": [
    "from pathlib import Path\n",
    "\n",
    "p = Path('/etc')\n",
    "print(p / \"init.d\" / \"reboot\")\n"
   ]
  },
  {
   "cell_type": "markdown",
   "metadata": {},
   "source": [
    "In `pathlib` the `__truediv__` is overriden to provide the feel of a posix path `/etc/init.d/reboot`. If I had to guess the code is roughly something like:\n"
   ]
  },
  {
   "cell_type": "code",
   "execution_count": 3,
   "metadata": {},
   "outputs": [
    {
     "name": "stdout",
     "output_type": "stream",
     "text": [
      "/etc/init.d/reboot\n"
     ]
    }
   ],
   "source": [
    "import os\n",
    "\n",
    "\n",
    "class PseudoPosixPath:\n",
    "    path: tuple[str, ...]\n",
    "\n",
    "    def __init__(self, *path: str) -> None:\n",
    "        self.path = path\n",
    "\n",
    "    def __truediv__(self, other: str) -> Self:\n",
    "        return type(self)(*self.path, other)\n",
    "    \n",
    "    def __str__(self) -> str:\n",
    "        return os.path.join(*self.path)\n",
    "    \n",
    "\n",
    "print(PseudoPosixPath('/etc') / \"init.d\" / \"reboot\")"
   ]
  },
  {
   "cell_type": "markdown",
   "metadata": {},
   "source": [
    "There are plenty of other examples, one such example is in [langchain](https://www.langchain.com/) using `|` to create a DSL with the feel of the unix [pipeline](https://en.wikipedia.org/wiki/Pipeline_(Unix))\n",
    "\n",
    "```python\n",
    "from langchain.prompts import ChatPromptTemplate\n",
    "from langchain.chat_models import ChatOpenAI\n",
    "from langchain.schema.output_parser import StrOutputParser\n",
    "\n",
    "# Initialize the chat model\n",
    "llm = ChatOpenAI()\n",
    "\n",
    "# Define prompts\n",
    "prompt1 = ChatPromptTemplate.from_template(\"Tell me a joke about {topic}\")\n",
    "prompt2 = ChatPromptTemplate.from_template(\"Explain the joke: {joke}\")\n",
    "\n",
    "# Chain the prompts and the model\n",
    "chain = prompt1 | llm | StrOutputParser() | prompt2 | llm | StrOutputParser()\n",
    "```"
   ]
  },
  {
   "cell_type": "markdown",
   "metadata": {},
   "source": [
    "## Advanced Operator Overloading"
   ]
  },
  {
   "cell_type": "markdown",
   "metadata": {},
   "source": [
    "Let's go a bit deeper into this topic. \n",
    "\n",
    "Not all operators are created equal and Python has bitwise and arithmetic operators. For the purpose of DSL we don't really care about the distinction. \n",
    "\n",
    "We can also group operators by their arity, we have binary operators with 2 arguments, like the addition operator `1 + 1`. But there are also unary operators such as negation `-`. Since the arity affects the syntax, it will become important in our DSL.\n",
    "\n",
    "So to illustrate these techniques, let's build a DSL that uses `|` similar to a unix pipe."
   ]
  },
  {
   "cell_type": "code",
   "execution_count": 4,
   "metadata": {},
   "outputs": [
    {
     "data": {
      "text/plain": [
       "[1, 2, 3, 4, 5]"
      ]
     },
     "execution_count": 4,
     "metadata": {},
     "output_type": "execute_result"
    }
   ],
   "source": [
    "from dataclasses import dataclass\n",
    "from typing import Callable\n",
    "\n",
    "\n",
    "@dataclass\n",
    "class apply[T, R]:\n",
    "    \"\"\"\n",
    "    Wrap a callable allowing `|` operator to be used.\n",
    "    \"\"\"\n",
    "    fn: Callable[[T], R]\n",
    "\n",
    "    def __call__(self, v: T) -> R:\n",
    "        return self.fn(v)\n",
    "    \n",
    "    __ror__ = __call__\n",
    "\n",
    "\n",
    "[5, 4, 3, 2, 1] | apply(sorted)\n",
    "    "
   ]
  },
  {
   "cell_type": "markdown",
   "metadata": {},
   "source": [
    "In terms of the operator, you were probably expecting `__or__` not the `__ror__` used here. This is one thing I left out from earlier. Since Python binary operators must be overloaded in an object. This raises the question if the 2 operands are of different types. \n",
    "\n",
    "Python will check the left hand operator for the overloading first. In this case, it'll check if the list implements `__or__` first. As you'd expect, this will limit the usefulness the overloading. So most binary operators in Python also come with a right hand side version, in this case `__ror__`, though notably not comparison operators `>`, `<` or `=`.\n",
    "\n",
    "This is how we applied `sorted` on the right hand side in the above example, even though list doesn't implement `__or__`.\n",
    "\n",
    "### Mixing operators\n",
    "As an example, let's add a unary operator `~` to mean `or None`. That is if the input of the function is `None` then we return `None` directly otherwise we return the result."
   ]
  },
  {
   "cell_type": "code",
   "execution_count": 5,
   "metadata": {},
   "outputs": [
    {
     "name": "stdout",
     "output_type": "stream",
     "text": [
      "[1, 2, 3, 4, 5]\n",
      "None\n"
     ]
    }
   ],
   "source": [
    "from __future__ import annotations\n",
    "\n",
    "from dataclasses import dataclass\n",
    "from typing import Callable\n",
    "\n",
    "\n",
    "@dataclass\n",
    "class apply[T, R]:\n",
    "    \"\"\"\n",
    "    Wrap a callable allowing `|` operator to be used.\n",
    "    \"\"\"\n",
    "    fn: Callable[[T], R]\n",
    "\n",
    "    def __call__(self, v: T) -> R:\n",
    "        return self.fn(v)\n",
    "    \n",
    "    __ror__ = __call__\n",
    "\n",
    "    def __invert__(self) -> apply[T | None, R | None]:\n",
    "        def _fn(v: T | None) -> R | None:\n",
    "            if v is None:\n",
    "                return None\n",
    "            return self.fn(v)\n",
    "        return apply(_fn)\n",
    "    \n",
    "\n",
    "series: dict[str, list[int]] = {\n",
    "    \"a\": [5, 4, 3, 2, 1],\n",
    "}\n",
    "\n",
    "\n",
    "print(series.get(\"a\") | ~apply(sorted))\n",
    "print(series.get(\"b\") | ~apply(sorted) | ~apply(reversed))"
   ]
  },
  {
   "cell_type": "markdown",
   "metadata": {},
   "source": [
    "### Precedence\n",
    "Pretty cool right? This does bring up an unexpected bit of complexity, precedence, that is which operator executes first. Luckily we have well defined behaviour here. Generally expect operators you're familiar with in algebra to follow the same rules you learnt in school. For more complex combinations consult the official docs [here](https://docs.python.org/3/reference/expressions.html#operator-precedence).\n",
    "\n",
    "Operator precedence actually can be very powerful when designing our DSL. In the above example I can apply `~` without bracket. As we are designing the language, the softer ergonomic feel of operators really does matter!\n",
    "\n",
    "In my package better-functools, I used `@` and `|` operators. These were chosen carefully to allow mixed use without the need for brackets. e.g.\n",
    "\n",
    "```py\n",
    "Pipeline(inputs)\n",
    "| func(itertools.combinations @ func.arg(Iterable[int]) @ bind(2))\n",
    "| filter @ bind(sum @ compose(eq @ bind(2020)))\n",
    "| map @ bind(prod)\n",
    "| sum\n",
    "| print\n",
    "```\n",
    "\n",
    "### Sided precedence\n",
    "You might have wondered what would happen if we mix `__or__` and `__ror__`. That is we have the following situation:"
   ]
  },
  {
   "cell_type": "code",
   "execution_count": 6,
   "metadata": {},
   "outputs": [
    {
     "data": {
      "text/plain": [
       "'Left Wins'"
      ]
     },
     "execution_count": 6,
     "metadata": {},
     "output_type": "execute_result"
    }
   ],
   "source": [
    "class LHS:\n",
    "    def __or__(self, _):\n",
    "        return \"Left Wins\"\n",
    "\n",
    "\n",
    "class RHS:\n",
    "    def __ror__(self, _):\n",
    "        return \"Right Wins\"\n",
    "    \n",
    "\n",
    "LHS() | RHS()"
   ]
  },
  {
   "cell_type": "markdown",
   "metadata": {},
   "source": [
    "As you can see, the left hand side overload wins. Another thing to keep in mind, but also another opportunity. Let's beef up our DSL again."
   ]
  },
  {
   "cell_type": "code",
   "execution_count": 7,
   "metadata": {},
   "outputs": [
    {
     "name": "stdout",
     "output_type": "stream",
     "text": [
      "[1, 2, 3, 4, 5]\n",
      "<null>\n"
     ]
    }
   ],
   "source": [
    "from __future__ import annotations\n",
    "\n",
    "from typing import Any, Self\n",
    "\n",
    "\n",
    "class coalesce:\n",
    "    class null:\n",
    "        def __or__(self, _: Any) -> Self:\n",
    "            return self\n",
    "    \n",
    "        def __repr__(self) -> str:\n",
    "            return \"<null>\"\n",
    "\n",
    "    def __ror__[T](self, v: T | None) -> T | null:\n",
    "        if v is None:\n",
    "            return self.null()\n",
    "        return v\n",
    "\n",
    "    \n",
    "\n",
    "series: dict[str, list[int]] = {\n",
    "    \"a\": [5, 4, 3, 2, 1],\n",
    "}\n",
    "\n",
    "\n",
    "print(series.get(\"a\") | coalesce() | apply(sorted))\n",
    "print(series.get(\"b\") | coalesce() | apply(sorted) | apply(reversed))"
   ]
  },
  {
   "cell_type": "markdown",
   "metadata": {},
   "source": [
    "We've written what's known as a null-coalescing expression. You may have seen this in javascript as syntax `?`. We can chain expressions following the `coalesce()` stage but if the previous expression results in a `None` we return `null` no matter how many operations are chained on the right hand side. Otherwise we apply the operations as expected.\n",
    "\n",
    "The way we achieve this is by taking advantage of the side precedence of the `|` operator. The `null` object's left hand side `__or__` can override any `__ror__` in the chain, so if it's returned by `coalesce` then the rest of the expression evaluates to `null`. Else we get the value as we'd expect.\n",
    "\n",
    "We probably should have an extra operation to convert the `null` back into a `None` but we'll leave that for this example."
   ]
  },
  {
   "cell_type": "markdown",
   "metadata": {},
   "source": [
    "### Inplace Operators\n",
    "I also left out inplace operators (operators followed by `=`). These are statements where the result of the operator is assigned back to the original variable."
   ]
  },
  {
   "cell_type": "code",
   "execution_count": 8,
   "metadata": {},
   "outputs": [
    {
     "name": "stdout",
     "output_type": "stream",
     "text": [
      "11\n",
      "[1, 2, 3, 4]\n"
     ]
    }
   ],
   "source": [
    "a = 10\n",
    "a += 1\n",
    "print(a)\n",
    "\n",
    "b = [1, 2, 3]\n",
    "b += [4]\n",
    "print(b)"
   ]
  },
  {
   "cell_type": "markdown",
   "metadata": {},
   "source": [
    "We automatically get the inplace version for free:"
   ]
  },
  {
   "cell_type": "code",
   "execution_count": 9,
   "metadata": {},
   "outputs": [
    {
     "data": {
      "text/plain": [
       "[1, 2, 3, 4, 5]"
      ]
     },
     "execution_count": 9,
     "metadata": {},
     "output_type": "execute_result"
    }
   ],
   "source": [
    "seq = series.get(\"a\")\n",
    "seq |= coalesce()\n",
    "seq |= apply(sorted)\n",
    "seq"
   ]
  },
  {
   "cell_type": "markdown",
   "metadata": {},
   "source": [
    "I used this to solve a specific problem in [sqlalchemy-builder](https://github.com/Jamie-Chang/sqlalchemy-builder):\n",
    "\n",
    "```py\n",
    "statement = select(Model)\n",
    "if value:\n",
    "    statement |= where(Model.value == value)\n",
    "```\n",
    "\n",
    "There is also a way to override the behaviour of the inplace version using `__ior__` (only works for left hand side as we're modifying the left hand object)"
   ]
  },
  {
   "cell_type": "code",
   "execution_count": 10,
   "metadata": {},
   "outputs": [
    {
     "data": {
      "text/plain": [
       "MyList(lst=[7, 6, 4, 3])"
      ]
     },
     "execution_count": 10,
     "metadata": {},
     "output_type": "execute_result"
    }
   ],
   "source": [
    "from dataclasses import dataclass\n",
    "from typing import Literal, Self\n",
    "\n",
    "\n",
    "@dataclass\n",
    "class MyList:\n",
    "    lst: list[int]\n",
    "\n",
    "    def __ior__(self, operation: Literal[\"sort\", \"reverse\"]) -> Self:\n",
    "        if operation == \"sort\":\n",
    "            self.lst.sort()\n",
    "        elif operation == \"reverse\":\n",
    "            self.lst.reverse()\n",
    "        return self\n",
    "\n",
    "l = MyList([4, 3, 6, 7]) \n",
    "l |= \"sort\"\n",
    "l |= \"reverse\"\n",
    "l"
   ]
  }
 ],
 "metadata": {
  "kernelspec": {
   "display_name": "Python 3",
   "language": "python",
   "name": "python3"
  },
  "language_info": {
   "codemirror_mode": {
    "name": "ipython",
    "version": 3
   },
   "file_extension": ".py",
   "mimetype": "text/x-python",
   "name": "python",
   "nbconvert_exporter": "python",
   "pygments_lexer": "ipython3",
   "version": "3.12.1"
  }
 },
 "nbformat": 4,
 "nbformat_minor": 2
}
