{
 "cells": [
  {
   "cell_type": "code",
   "execution_count": 2,
   "metadata": {},
   "outputs": [],
   "source": [
    "from collections.abc import Sequence\n",
    "\n",
    "class MatchesEverything(type):\n",
    "    def __instancecheck__(self, instance):\n",
    "        print(instance)\n",
    "        return True\n",
    "\n",
    "    def __subclasscheck__(self, subclass):\n",
    "        print(subclass)\n",
    "        return True\n",
    "\n",
    "class AnySequence(metaclass=MatchesEverything):\n",
    "    ..."
   ]
  },
  {
   "cell_type": "code",
   "execution_count": 14,
   "metadata": {},
   "outputs": [],
   "source": [
    "class LogsEqual(metaclass=MatchesEverything):\n",
    "    def __init__(self, value):\n",
    "        self.value = value\n",
    "    def __eq__(self, other):\n",
    "        print(f\"{self.value } == {other}\")\n",
    "        return self.value == other\n",
    "    \n",
    "    __match_args__ = (\"value\",)"
   ]
  },
  {
   "cell_type": "code",
   "execution_count": 18,
   "metadata": {},
   "outputs": [
    {
     "name": "stdout",
     "output_type": "stream",
     "text": [
      "['a', 'b']\n",
      "anything\n"
     ]
    }
   ],
   "source": [
    "match [\"a\", \"b\"]:\n",
    "    case AnySequence():\n",
    "        print(\"anything\")"
   ]
  },
  {
   "cell_type": "code",
   "execution_count": 23,
   "metadata": {},
   "outputs": [],
   "source": [
    "match \"a\":\n",
    "    case str(stuff=\"a\"):\n",
    "        print(\"stuff\")"
   ]
  },
  {
   "cell_type": "code",
   "execution_count": 20,
   "metadata": {},
   "outputs": [
    {
     "name": "stdout",
     "output_type": "stream",
     "text": [
      "a\n"
     ]
    }
   ],
   "source": [
    "match [\"a\", LogsEqual(\"b\")]:\n",
    "    case [LogsEqual(\"a\"), \"b\"]:\n",
    "        print(\"stuff\")"
   ]
  }
 ],
 "metadata": {
  "kernelspec": {
   "display_name": "Python 3",
   "language": "python",
   "name": "python3"
  },
  "language_info": {
   "codemirror_mode": {
    "name": "ipython",
    "version": 3
   },
   "file_extension": ".py",
   "mimetype": "text/x-python",
   "name": "python",
   "nbconvert_exporter": "python",
   "pygments_lexer": "ipython3",
   "version": "3.12.1"
  }
 },
 "nbformat": 4,
 "nbformat_minor": 2
}
