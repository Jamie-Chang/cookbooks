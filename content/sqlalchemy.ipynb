{
  "cells": [
    {
      "cell_type": "markdown",
      "id": "6794ce95-1b22-473f-9892-06f78afcb3b2",
      "metadata": {},
      "source": [
        "# SQLAlchemy Cookbook\n",
        "\n",
        "My often-used SQLAlchemy patterns hosted using a Jupyter notebook.\n",
        "\n",
        "The code is interactive with a PyOdide WASM kernel. You may need to reload the page as occasionally the kernel becomes unresponsive. \n",
        "\n",
        "#### Downloading the notebook\n",
        "Alternatively downlown the notebook and run in your own Python environment:\n",
        "- Click the \"JupyterLab\" button above.\n",
        "- In the file view, right click and select \"Download\""
      ]
    },
    {
      "cell_type": "code",
      "execution_count": null,
      "id": "0ceb8d8f-502d-4fee-a08d-0306e5fe170c",
      "metadata": {
        "editable": true,
        "slideshow": {
          "slide_type": ""
        },
        "tags": [],
        "trusted": true
      },
      "outputs": [],
      "source": [
        "%pip install sqlalchemy\n",
        "\n",
        "import sqlalchemy\n",
        "\n",
        "print(sqlalchemy.__version__)"
      ]
    },
    {
      "cell_type": "markdown",
      "id": "ab6b84f2-b4b0-4e2b-a2a7-c689b0fc7457",
      "metadata": {},
      "source": [
        "### ORM Configuration\n",
        "We can override the type annotations in the base type. \n",
        "\n",
        "`DateTime` with timezones and string enums can help avoid bugs down the line."
      ]
    },
    {
      "cell_type": "code",
      "execution_count": null,
      "id": "5b38aaf2-e3c8-427f-8871-fa621aa35258",
      "metadata": {
        "trusted": true
      },
      "outputs": [],
      "source": [
        "from sqlalchemy.orm import DeclarativeBase, Mapped, mapped_column\n",
        "from sqlalchemy.types import DateTime\n",
        "\n",
        "from uuid import UUID, uuid4\n",
        "from datetime import datetime\n",
        "from enum import Enum\n",
        "\n",
        "\n",
        "class Base(DeclarativeBase):\n",
        "    __table_args__ = {'extend_existing': True}  # Don't need this, just to silence any warnings about redefining tables here\n",
        "\n",
        "    # override default python type mapping\n",
        "    # https://docs.sqlalchemy.org/en/20/orm/declarative_tables.html#customizing-the-type-map\n",
        "    type_annotation_map = {\n",
        "        datetime: DateTime(timezone=True),  # Use timezoned datetime\n",
        "        Enum: sqlalchemy.Enum(Enum, native_enum=False),  # Use string enum as opposed to native enum types (if available)\n",
        "    }\n"
      ]
    },
    {
      "cell_type": "code",
      "execution_count": null,
      "id": "08d55ac2-eba0-4af1-8a92-e52a97e5a8ac",
      "metadata": {
        "trusted": true
      },
      "outputs": [],
      "source": [
        "# Ignore some warnings here, don't do this in production code\n",
        "import warnings\n",
        "from sqlalchemy.exc import SAWarning\n",
        "warnings.filterwarnings(\"ignore\", category=SAWarning)\n"
      ]
    },
    {
      "cell_type": "markdown",
      "id": "2b6fb602-2022-45f7-bc5a-138be0b17428",
      "metadata": {},
      "source": [
        "### Reusing column definitions using annotations\n",
        "\n",
        "Columns are often repeated, for example the id column and datetime columns. Column definitions can be included in the type using [Annotated](https://docs.sqlalchemy.org/en/20/orm/declarative_tables.html#mapping-whole-column-declarations-to-python-types)."
      ]
    },
    {
      "cell_type": "code",
      "execution_count": null,
      "id": "3a3b8fe3-f171-447c-9dfe-eba7a83fb6c0",
      "metadata": {
        "trusted": true
      },
      "outputs": [],
      "source": [
        "from datetime import UTC, datetime\n",
        "from typing import Annotated, TypeAlias\n",
        "\n",
        "\n",
        "now = lambda: datetime.now(UTC)\n",
        "\n",
        "# NOTE: Mapped column defaults can be a static value or a factory function.\n",
        "PK: TypeAlias = Annotated[UUID, mapped_column(primary_key=True, default=uuid4)]\n",
        "Created: TypeAlias = Annotated[datetime, mapped_column(default=now)]\n",
        "Updated: TypeAlias = Annotated[datetime, mapped_column(default=now, onupdate=now)]"
      ]
    },
    {
      "cell_type": "markdown",
      "id": "5a1b167b-f8f2-4d03-accf-fa653342d709",
      "metadata": {},
      "source": [
        "### Creating the ORM Class"
      ]
    },
    {
      "cell_type": "code",
      "execution_count": null,
      "id": "8f30980d-3c97-41b9-8768-ad8e882e7a3c",
      "metadata": {
        "trusted": true
      },
      "outputs": [],
      "source": [
        "from enum import StrEnum\n",
        "\n",
        "from sqlalchemy.types import JSON\n",
        "from sqlalchemy.ext.mutable import MutableList\n",
        "\n",
        "\n",
        "class UserType(StrEnum):\n",
        "    STANDARD = \"STANDARD\"\n",
        "    ADMIN = \"ADMIN\"\n",
        "\n",
        "\n",
        "class User(Base):\n",
        "    __tablename__ = \"user\"\n",
        "\n",
        "    id: Mapped[PK]\n",
        "    created: Mapped[Created]\n",
        "    updated: Mapped[Updated]\n",
        "\n",
        "    # Nullable: by default rows are not nullable\n",
        "    name: Mapped[str | None] = mapped_column(default=None)\n",
        "\n",
        "    # JSON type: dialect specefic JSON types may be more powerful.\n",
        "    groups: Mapped[list[str]] = mapped_column(MutableList.as_mutable(JSON), default=list)\n",
        "\n",
        "    # Enum\n",
        "    user_type: Mapped[UserType] = mapped_column(default=UserType.STANDARD)\n",
        "    "
      ]
    },
    {
      "cell_type": "markdown",
      "id": "e8814e03-9679-4f52-b6e1-5c3fc26e97ea",
      "metadata": {},
      "source": [
        "#### Columns types\n",
        "These are the types I use the most\n",
        "- `datetime`: main thing to think about is timezones, check if your database supports native timezones, always work in timezones if possible\n",
        "- `UUID`: I like it over integer for ids, consider using [uuid v7](https://uuid7.com/) if you need it sortable.\n",
        "- `JSON`: use it instead of JOINs (more on it later) to denormalise data potentially increase the performance. Mutable tracking is pretty much a must here unless you are really sure that you don't plan on mutating the JSON data.\n",
        "- `Enum`: I typically set the type_annotation_map to sotre it as a string in the db. This depends on the database but typically string is more flexible when it comes to migrations.\n",
        "- `Nullable`: If you're coming from sqlalchemy 1 then the big change here is that `Mapped` types are not nullable by default. Explicitly mark as `Optional` or union with the `None` type.\n"
      ]
    },
    {
      "cell_type": "markdown",
      "id": "24a6b76c-b5c4-48d2-b3ed-49fcd5edc9fb",
      "metadata": {},
      "source": [
        "### Queries"
      ]
    },
    {
      "cell_type": "code",
      "execution_count": null,
      "id": "73ef36d5-ef7b-43de-8403-38eb0a7dc3b0",
      "metadata": {
        "trusted": true
      },
      "outputs": [],
      "source": [
        "from sqlalchemy import select, insert\n",
        "from sqlalchemy.orm import sessionmaker\n",
        "\n",
        "engine = sqlalchemy.create_engine(\"sqlite://\")\n",
        "Base.metadata.create_all(engine)\n",
        "Session = sessionmaker(engine)\n",
        "\n",
        "with Session.begin() as session:  # transaction with automatic commit at the exit\n",
        "    session.add(User(name=\"Jamie\"))  # Insert user as an object, db state will be updated on commit or flush\n",
        "    session.execute(insert(User).values(name=\"John\"))  # insert the sql way, it's often not needed\n",
        "\n",
        "with Session() as session:  # Non-transaction session\n",
        "    user_query = select(User).where(User.name.is_not(None)).order_by(User.name).offset(0).limit(10)\n",
        "    print(session.execute(user_query).scalars().all())  # Return user objects as an iterator\n",
        "    print(session.execute(user_query.where(User.name == \"Jamie\")).scalar_one())  # Return a single user object, error if not found or more than one returned\n",
        "    print(session.execute(user_query.where(User.name == \"Jack\")).scalar_one_or_none())  # Return None if not found\n",
        "    print([user.name for user in session.execute(user_query).scalars()])"
      ]
    },
    {
      "cell_type": "markdown",
      "id": "cde58b23-dd8c-4dd0-9ac6-aafcd86ad556",
      "metadata": {},
      "source": [
        "#### Inspect statements\n",
        "Sometimes it's useful to inspect the compiled statements. "
      ]
    },
    {
      "cell_type": "code",
      "execution_count": null,
      "id": "e258f5cf-503b-41a6-b5c2-9093615b01dc",
      "metadata": {
        "trusted": true
      },
      "outputs": [],
      "source": [
        "print(select(User).where(User.name.in_([\"Jamie\", \"Chang\"])).compile(compile_kwargs={\"literal_binds\": True}))"
      ]
    },
    {
      "cell_type": "markdown",
      "id": "1adbb980-f572-49f9-8c34-9169d7f79510",
      "metadata": {
        "editable": true,
        "slideshow": {
          "slide_type": ""
        },
        "tags": []
      },
      "source": [
        "### Foreign Keys and Relationship\n",
        "\n"
      ]
    },
    {
      "cell_type": "code",
      "execution_count": null,
      "id": "b24a1131-00b5-4308-8fc6-24509a75ba65",
      "metadata": {
        "trusted": true
      },
      "outputs": [],
      "source": [
        "from sqlalchemy import ForeignKey\n",
        "from sqlalchemy.orm import relationship\n",
        "\n",
        "\n",
        "class Team(Base):\n",
        "    __tablename__ = \"team\"\n",
        "\n",
        "    id: Mapped[PK]\n",
        "    name: Mapped[str]\n",
        "    players: Mapped[list['Player']] = relationship()\n",
        "\n",
        "\n",
        "class Player(Base):\n",
        "    __tablename__ = \"player\"\n",
        "\n",
        "    id: Mapped[PK]\n",
        "    team_id: Mapped[UUID] = mapped_column(ForeignKey(\"team.id\"))\n",
        "    team: Mapped[Team] = relationship()\n",
        "\n",
        "\n",
        "# Note by default reationship is not loaded\n",
        "print(select(Team))\n",
        "print(select(Player))\n",
        "    "
      ]
    },
    {
      "cell_type": "markdown",
      "id": "aba7823b-7a5c-4d40-9bf9-ddeb449cc8cf",
      "metadata": {},
      "source": [
        "### Lazy/Eager loading\n",
        "By default when we select an object all columns are loaded. We can change this behaviour in the orm."
      ]
    },
    {
      "cell_type": "code",
      "execution_count": null,
      "id": "de828f71-fefe-4d8a-a7b3-df3d18d8abb5",
      "metadata": {
        "trusted": true
      },
      "outputs": [],
      "source": [
        "class Page(Base):\n",
        "    __tablename__ = \"page\"\n",
        "\n",
        "    id: Mapped[PK]\n",
        "    name: Mapped[str] = mapped_column()\n",
        "    data: Mapped[dict] = mapped_column(JSON, deferred=True)"
      ]
    },
    {
      "cell_type": "code",
      "execution_count": null,
      "id": "b04b5a4a-2d09-4000-9533-fedb39fc9bfd",
      "metadata": {
        "trusted": true
      },
      "outputs": [],
      "source": [
        "print(select(Page))  # data is not selected"
      ]
    },
    {
      "cell_type": "markdown",
      "id": "1542b0e4-70a7-4e26-8bf5-e04459d10fef",
      "metadata": {},
      "source": [
        "#### Eagerly load deferred columns"
      ]
    },
    {
      "cell_type": "code",
      "execution_count": null,
      "id": "7442dc12-dd36-4e3d-8e41-d4400ede2e48",
      "metadata": {
        "trusted": true
      },
      "outputs": [],
      "source": [
        "from sqlalchemy.orm import undefer\n",
        "print(select(Page).options(undefer(Page.data)))"
      ]
    },
    {
      "cell_type": "markdown",
      "id": "d02141ec-5773-47ae-9db8-50865f52ab01",
      "metadata": {},
      "source": [
        "#### Defer columns at query level"
      ]
    },
    {
      "cell_type": "code",
      "execution_count": null,
      "id": "a8c7b400-d3ff-471a-a684-9beb260cdf82",
      "metadata": {
        "trusted": true
      },
      "outputs": [],
      "source": [
        "from sqlalchemy.orm import defer\n",
        "print(select(Page).options(defer(Page.name)))"
      ]
    },
    {
      "cell_type": "markdown",
      "id": "cf6a5b21-537f-4ce6-858f-4c91ee25589f",
      "metadata": {},
      "source": [
        "### Eagerly load a relationship\n",
        "\n",
        "Relationships are the biggest cause of N+1 problems. Suppose you want to load a list of players and their teams. By default if we lazy load then we dispatch one query to load the players and for each of the N players dispatch a query to load the team hence N+1.\n",
        "\n",
        "There are many [relationship loading techniques](https://docs.sqlalchemy.org/en/20/orm/queryguide/relationships.html#relationship-loader-api). I've picked joinedload here for easier demonstration but [selectinload](https://docs.sqlalchemy.org/en/20/orm/queryguide/relationships.html#sqlalchemy.orm.selectinload) is another one I like using."
      ]
    },
    {
      "cell_type": "code",
      "execution_count": null,
      "id": "92f54f09-8c01-4770-a904-5dd8598deef8",
      "metadata": {
        "trusted": true
      },
      "outputs": [],
      "source": [
        "from sqlalchemy.orm import joinedload\n",
        "print(select(Player).options(joinedload(Player.team)))"
      ]
    }
  ],
  "metadata": {
    "kernelspec": {
      "display_name": "Python 3",
      "language": "python",
      "name": "python3"
    },
    "language_info": {
      "codemirror_mode": {
        "name": "python",
        "version": 3
      },
      "file_extension": ".py",
      "mimetype": "text/x-python",
      "name": "python",
      "nbconvert_exporter": "python",
      "pygments_lexer": "ipython3",
      "version": "3.12.1"
    }
  },
  "nbformat": 4,
  "nbformat_minor": 5
}
